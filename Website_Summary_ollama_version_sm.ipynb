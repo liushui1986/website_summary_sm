{
 "cells": [
  {
   "cell_type": "code",
   "execution_count": 3,
   "id": "928e9292",
   "metadata": {},
   "outputs": [
    {
     "name": "stdout",
     "output_type": "stream",
     "text": [
      "Write down your website URL here: \n",
      "https://www.nlab-utsw.org/\n"
     ]
    },
    {
     "data": {
      "text/markdown": [
       "# Website Summary\n",
       "\n",
       "## Overview\n",
       "The website appears to be dedicated to the N-LAB, a research organization focused on developing novel neuroimaging and neuroengineering methods. The lab aims to integrate molecular and system neuroscience to solve brain science problems.\n",
       "\n",
       "## Mission Statement\n",
       "The mission statement is missing from this snippet, but it mentions understanding neural mechanisms of reward, learning, and memory in rodents' brains.\n",
       "\n",
       "## Laboratory Details\n",
       "* Located at the Advanced Imaging Research Center (AIRC), Department of Neuroscience, and Peter O'Donnel Brain Institute at UT Southwestern Medical Center.\n",
       "* Strong support from AIRC provides access to state-of-the-art resources for imaging modalities.\n",
       "* Supported by the Endowed Scholar Program, with access to 18 core facilities on campus.\n",
       "\n",
       "## News/Anotations\n",
       "No recent news or announcements appear in this snippet. However, there is a \"Learn more\" link that suggests additional information about the lab, its team, and research activities.\n",
       "\n",
       "## Navigation Links\n",
       "Navigation links:\n",
       "* Research\n",
       "* Publications\n",
       "* People\n",
       "* Gallery\n",
       "* Bio-ART\n",
       "* Contact\n",
       "\n",
       "Note: The \"HOME\", \"RESEARCH\", \"PUBLICATIONS\", etc. links appear to be redundant and do not provide meaningful content."
      ],
      "text/plain": [
       "<IPython.core.display.Markdown object>"
      ]
     },
     "metadata": {},
     "output_type": "display_data"
    }
   ],
   "source": [
    "import requests\n",
    "from bs4 import BeautifulSoup\n",
    "from IPython.display import Markdown, display\n",
    "import ollama\n",
    "\n",
    "# Headers for website requests\n",
    "headers = {\n",
    "    \"User-Agent\": \"Mozilla/5.0 (Windows NT 10.0; Win64; x64; rv:120.0) Gecko/20100101 Firefox/120.0\",\n",
    "    \"Accept\": \"text/html,application/xhtml+xml,application/xml;q=0.9,image/webp,image/apng,*/*;q=0.8\",\n",
    "    \"Accept-Language\": \"en-US,en;q=0.9\",\n",
    "    \"Accept-Encoding\": \"gzip, deflate, br\",\n",
    "    \"Referer\": \"https://www.google.com/\",  # Appears as if you're coming from Google\n",
    "    \"Connection\": \"keep-alive\",\n",
    "    \"DNT\": \"1\",  # Do Not Track request\n",
    "    \"Upgrade-Insecure-Requests\": \"1\",\n",
    "    \"Sec-Fetch-Dest\": \"document\",\n",
    "    \"Sec-Fetch-Mode\": \"navigate\",\n",
    "    \"Sec-Fetch-Site\": \"same-origin\",\n",
    "    \"Sec-Fetch-User\": \"?1\",\n",
    "}\n",
    "\n",
    "class Website:\n",
    "\n",
    "    def __init__(self, url):\n",
    "        \"\"\"\n",
    "        Initialize the website object and fetch content.\n",
    "        \"\"\"\n",
    "        self.url = url\n",
    "        try:\n",
    "            response = requests.get(url, headers=headers)\n",
    "            response.raise_for_status()  # Raise an error for bad responses\n",
    "        except requests.RequestException as e:\n",
    "            print(f'Failed to fetch website: {e}')\n",
    "            self.title = 'Error fetching website'\n",
    "            self.text = ''\n",
    "            return\n",
    "        \n",
    "        soup = BeautifulSoup(response.content, 'html.parser')\n",
    "        self.title = soup.title.string if soup.title else \"No title found\"\n",
    "        \n",
    "        if soup.body:\n",
    "            for irrelevant in soup.body([\"script\", \"style\", \"img\", \"input\"]):\n",
    "                irrelevant.decompose()\n",
    "            self.text = soup.body.get_text(separator=\"\\n\", strip=True)\n",
    "        else:\n",
    "            self.text = 'No readable content found'\n",
    "\n",
    "url = input('Write down your website URL here: \\n')\n",
    "website = Website(url)\n",
    "\n",
    "# Model parameters\n",
    "MODEL = \"llama3.2\"\n",
    "\n",
    "# Step 1: Create prompts\n",
    "\n",
    "system_prompt = (\n",
    "    \"You are an senior research scientist that analyzes the contents of a website \\\n",
    "    and provides a short summary, ignoring text that might be navigation related. \\\n",
    "    Respond in markdown.\"\n",
    ")\n",
    "user_prompt = (\n",
    "    f\"You are looking at a website titled {website.title}. \\n\\\n",
    "    The contents of this website is as follows; \\\n",
    "    please provide a short summary of this website in markdown. \\\n",
    "    If it includes news or announcements, then summarize these too.\\n\\n\\\n",
    "    {website.text}\"\n",
    ")\n",
    "\n",
    "# Step 2: Construct messages list\n",
    "messages = [\n",
    "    {\"role\": \"system\", \"content\": system_prompt},\n",
    "    {\"role\": \"user\", \"content\": user_prompt}\n",
    "]\n",
    "\n",
    "# Step 3: Call Llama 3.2 and Handle Response\n",
    "try:\n",
    "    response = ollama.chat(model=MODEL, messages=messages)\n",
    "    display(Markdown(response['message']['content']))\n",
    "except Exception as e:\n",
    "    print(f'Llama API call failed: {e}')"
   ]
  },
  {
   "cell_type": "code",
   "execution_count": null,
   "id": "53ad9d59",
   "metadata": {},
   "outputs": [],
   "source": []
  }
 ],
 "metadata": {
  "kernelspec": {
   "display_name": "Python 3 (ipykernel)",
   "language": "python",
   "name": "python3"
  },
  "language_info": {
   "codemirror_mode": {
    "name": "ipython",
    "version": 3
   },
   "file_extension": ".py",
   "mimetype": "text/x-python",
   "name": "python",
   "nbconvert_exporter": "python",
   "pygments_lexer": "ipython3",
   "version": "3.10.9"
  }
 },
 "nbformat": 4,
 "nbformat_minor": 5
}
